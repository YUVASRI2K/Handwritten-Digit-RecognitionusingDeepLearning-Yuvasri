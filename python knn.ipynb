{
  "nbformat": 4,
  "nbformat_minor": 0,
  "metadata": {
    "colab": {
      "provenance": [],
      "authorship_tag": "ABX9TyNee1X1h+2CihQ8RLU6Cw0l",
      "include_colab_link": true
    },
    "kernelspec": {
      "name": "python3",
      "display_name": "Python 3"
    },
    "language_info": {
      "name": "python"
    }
  },
  "cells": [
    {
      "cell_type": "markdown",
      "metadata": {
        "id": "view-in-github",
        "colab_type": "text"
      },
      "source": [
        "<a href=\"https://colab.research.google.com/github/YUVASRI2K/Handwritten-Digit-RecognitionusingDeepLearning-Yuvasri/blob/main/knn.ipynb\" target=\"_parent\"><img src=\"https://colab.research.google.com/assets/colab-badge.svg\" alt=\"Open In Colab\"/></a>"
      ]
    },
    {
      "cell_type": "code",
      "execution_count": 6,
      "metadata": {
        "colab": {
          "base_uri": "https://localhost:8080/",
          "height": 783
        },
        "id": "-fLMmYSAlqow",
        "outputId": "d3e4abb9-7ba0-4775-f9a5-2a90f5c31de5"
      },
      "outputs": [
        {
          "output_type": "stream",
          "name": "stdout",
          "text": [
            "Loading training data...\n",
            "Loading testing data...\n",
            "Training images shape: (60000, 784)\n",
            "Training labels shape: (60000,)\n",
            "Testing images shape: (10000, 784)\n",
            "Testing labels shape: (10000,)\n"
          ]
        },
        {
          "output_type": "display_data",
          "data": {
            "text/plain": [
              "<Figure size 640x480 with 1 Axes>"
            ],
            "image/png": "[encoded data removed]"
          },
          "metadata": {}
        },
        {
          "output_type": "stream",
          "name": "stdout",
          "text": [
            "Test Accuracy: 97.05%\n",
            "\n",
            "Confusion Matrix:\n",
            "[[ 974    1    1    0    0    1    2    1    0    0]\n",
            " [   0 1133    2    0    0    0    0    0    0    0]\n",
            " [  10    9  996    2    0    0    0   13    2    0]\n",
            " [   0    2    4  976    1   13    1    7    3    3]\n",
            " [   1    6    0    0  950    0    4    2    0   19]\n",
            " [   6    1    0   11    2  859    5    1    3    4]\n",
            " [   5    3    0    0    3    3  944    0    0    0]\n",
            " [   0   21    5    0    1    0    0  991    0   10]\n",
            " [   8    2    4   16    8   11    3    4  914    4]\n",
            " [   4    5    2    8    9    2    1    8    2  968]]\n"
          ]
        }
      ],
      "source": [
        "# Importing required libraries\n",
        "import numpy as np\n",
        "from sklearn.neighbors import KNeighborsClassifier\n",
        "from sklearn.metrics import accuracy_score, confusion_matrix\n",
        "import struct\n",
        "import matplotlib.pyplot as plt\n",
        "from matplotlib import style\n",
        "style.use('ggplot')\n",
        "\n",
        "# Function to load MNIST image files\n",
        "def load_images(filename):\n",
        "    with open(filename, 'rb') as f:\n",
        "        # Read magic number, number of images, rows, and columns\n",
        "        magic, num, rows, cols = struct.unpack(\">IIII\", f.read(16))\n",
        "        images = np.fromfile(f, dtype=np.uint8).reshape(num, rows * cols)\n",
        "    return images\n",
        "\n",
        "# Function to load MNIST label files\n",
        "def load_labels(filename):\n",
        "    with open(filename, 'rb') as f:\n",
        "        # Read magic number and number of items\n",
        "        magic, num = struct.unpack(\">II\", f.read(8))\n",
        "        labels = np.fromfile(f, dtype=np.uint8)\n",
        "    return labels\n",
        "\n",
        "# Paths to your downloaded dataset files in Colab\n",
        "train_images_path = '/content/train-images-idx3-ubyte'\n",
        "train_labels_path = '/content/train-labels-idx1-ubyte'\n",
        "test_images_path = '/content/t10k-images-idx3-ubyte'\n",
        "test_labels_path = '/content/t10k-labels-idx1-ubyte'\n",
        "\n",
        "# Load training and testing data\n",
        "print(\"Loading training data...\")\n",
        "train_images = load_images(train_images_path)\n",
        "train_labels = load_labels(train_labels_path)\n",
        "\n",
        "print(\"Loading testing data...\")\n",
        "test_images = load_images(test_images_path)\n",
        "test_labels = load_labels(test_labels_path)\n",
        "\n",
        "# Check the shape of loaded data\n",
        "print(f\"Training images shape: {train_images.shape}\")\n",
        "print(f\"Training labels shape: {train_labels.shape}\")\n",
        "print(f\"Testing images shape: {test_images.shape}\")\n",
        "print(f\"Testing labels shape: {test_labels.shape}\")\n",
        "\n",
        "# Step 6: Example - Visualizing a sample from training data\n",
        "plt.imshow(train_images[0].reshape(28, 28), cmap='gray')\n",
        "plt.title(f\"Label: {train_labels[0]}\")\n",
        "plt.show()\n",
        "\n",
        "# Simple KNeighborsClassifier implementation\n",
        "knn = KNeighborsClassifier(n_neighbors=3)\n",
        "\n",
        "# Train the model on the training data\n",
        "knn.fit(train_images, train_labels)\n",
        "\n",
        "# Predict on the test data\n",
        "test_predictions = knn.predict(test_images)\n",
        "\n",
        "# Calculate accuracy\n",
        "test_accuracy = accuracy_score(test_labels, test_predictions)\n",
        "print(f\"Test Accuracy: {test_accuracy * 100:.2f}%\")\n",
        "\n",
        "# Confusion Matrix\n",
        "print(\"\\nConfusion Matrix:\")\n",
        "print(confusion_matrix(test_labels, test_predictions))\n"
      ]
    }
  ]
}
