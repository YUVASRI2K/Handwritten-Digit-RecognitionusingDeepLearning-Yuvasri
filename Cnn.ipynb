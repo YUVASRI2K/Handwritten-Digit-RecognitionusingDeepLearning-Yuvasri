{
  "nbformat": 4,
  "nbformat_minor": 0,
  "metadata": {
    "colab": {
      "provenance": [],
      "authorship_tag": "ABX9TyORB+1J7Uv9BtBZj2Mlnrqh",
      "include_colab_link": true
    },
    "kernelspec": {
      "name": "python3",
      "display_name": "Python 3"
    },
    "language_info": {
      "name": "python"
    }
  },
  "cells": [
    {
      "cell_type": "markdown",
      "metadata": {
        "id": "view-in-github",
        "colab_type": "text"
      },
      "source": [
        "<a href=\"https://colab.research.google.com/github/YUVASRI2K/Handwritten-Digit-RecognitionusingDeepLearning-Yuvasri/blob/main/Cnn.ipynb\" target=\"_parent\"><img src=\"https://colab.research.google.com/assets/colab-badge.svg\" alt=\"Open In Colab\"/></a>"
      ]
    },
    {
      "cell_type": "code",
      "execution_count": 1,
      "metadata": {
        "colab": {
          "base_uri": "https://localhost:8080/",
          "height": 192
        },
        "id": "agr0Jv-1kqZG",
        "outputId": "33fc1294-457c-4c78-f143-b195c7440df6"
      },
      "outputs": [
        {
          "output_type": "display_data",
          "data": {
            "text/plain": [
              "<Figure size 1000x200 with 5 Axes>"
            ],
            "image/png": "[encoded data removed]"
          },
          "metadata": {}
        }
      ],
      "source": [
        "import numpy as np\n",
        "import matplotlib.pyplot as plt\n",
        "import cv2\n",
        "\n",
        "def create_synthetic_digit(digit):\n",
        "    \"\"\"Create a synthetic image of a given digit (0-9).\"\"\"\n",
        "    # Create a blank image\n",
        "    img = np.ones((28, 28), dtype=np.uint8) * 255  # white background\n",
        "\n",
        "    # Draw a synthetic digit using OpenCV\n",
        "    font = cv2.FONT_HERSHEY_SIMPLEX\n",
        "    # Choose a random position to put the digit\n",
        "    position = (5, 20)\n",
        "    cv2.putText(img, str(digit), position, font, 1, (0, 0, 0), 2, cv2.LINE_AA)\n",
        "\n",
        "    return img\n",
        "\n",
        "# Number of samples\n",
        "num_samples = 10000\n",
        "images = []\n",
        "labels = []\n",
        "\n",
        "# Generate the synthetic dataset\n",
        "for _ in range(num_samples):\n",
        "    digit = np.random.randint(0, 10)  # Random digit from 0 to 9\n",
        "    img = create_synthetic_digit(digit)\n",
        "    images.append(img)\n",
        "    labels.append(digit)\n",
        "\n",
        "# Convert lists to numpy arrays\n",
        "images = np.array(images)\n",
        "labels = np.array(labels)\n",
        "\n",
        "# Reshape for the CNN model (28x28 images with 1 channel)\n",
        "images = images.reshape((images.shape[0], 28, 28, 1))  # Add a channel dimension\n",
        "labels = np.eye(10)[labels]  # One-hot encode labels\n",
        "\n",
        "# Visualize some examples\n",
        "def visualize_dataset(images, labels, num_samples=5):\n",
        "    \"\"\"Visualize some samples from the dataset.\"\"\"\n",
        "    indices = np.random.choice(len(images), num_samples, replace=False)\n",
        "    plt.figure(figsize=(10, 2))\n",
        "    for i, idx in enumerate(indices):\n",
        "        plt.subplot(1, num_samples, i + 1)\n",
        "        plt.imshow(images[idx].reshape(28, 28), cmap='gray')\n",
        "        plt.title(f'Label: {np.argmax(labels[idx])}')\n",
        "        plt.axis('off')\n",
        "    plt.show()\n",
        "\n",
        "# Visualize 5 random samples from the synthetic dataset\n",
        "visualize_dataset(images, labels, num_samples=5)\n"
      ]
    }
  ]
}